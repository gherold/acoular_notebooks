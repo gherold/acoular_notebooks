{
 "cells": [
  {
   "cell_type": "markdown",
   "id": "6ebabecf-5e67-4d65-b66c-805560a10867",
   "metadata": {},
   "source": [
    "# VRA + Beamforming in the mode frequency domain\n",
    "\n",
    "Contact: https://github.com/gherold (Gert Herold)\n",
    "\n",
    "- Example simulation of a stationary and a rotating source (\"b11c\", see also https://doi.org/10.14279/depositonce-8460)\n",
    "- VRA + frequency domain beamforming\n",
    "- separation of rotating source / stationary source\n",
    "\n",
    "Requirements\n",
    "- Acoular \"rotating2024\" branch (https://github.com/gherold/acoular/tree/rotating2024, last tested: 2025-03-24)\n",
    "- Array geometry file \"ring64circ.xml\"\n",
    "\n",
    "## 1) Initial setup\n",
    "\n",
    "Imports:"
   ]
  },
  {
   "cell_type": "code",
   "execution_count": null,
   "id": "dd3fb9b6-16b6-4937-9c84-be398249dcb1",
   "metadata": {
    "tags": []
   },
   "outputs": [],
   "source": [
    "import acoular as ac\n",
    "ac.config.global_caching='none'\n",
    "ac.config.h5library = \"h5py\"\n",
    "#ac.config.h5library = \"tables\"\n",
    "import pylab as plt\n",
    "c0 = 343.\n"
   ]
  },
  {
   "cell_type": "markdown",
   "id": "1a53f941-6398-46e5-9b9e-9eaf91f4e82c",
   "metadata": {},
   "source": [
    "array geometry:"
   ]
  },
  {
   "cell_type": "code",
   "execution_count": null,
   "id": "0894ebf2-d363-41fb-a688-0fa35c836335",
   "metadata": {
    "tags": []
   },
   "outputs": [],
   "source": [
    "m = ac.MicGeomCirc(file = './ring64circ.xml')\n",
    "channels = m.ringlist[0].mics"
   ]
  },
  {
   "cell_type": "markdown",
   "id": "f853bd97-68ed-44c3-9627-4971a508cb4e",
   "metadata": {},
   "source": [
    "## 2) Simulation\n",
    "\n",
    "Skip this and continue at section 3) if you already simulated the data.\n",
    "\n",
    "Sound source positions and other parameters:"
   ]
  },
  {
   "cell_type": "code",
   "execution_count": null,
   "id": "32d0aba3-8306-422b-8fa2-148579bdc684",
   "metadata": {},
   "outputs": [],
   "source": [
    "z = 0.5 # m\n",
    "r = 0.25 # m\n",
    "phi = 90./180*plt.pi # source @ 12 o'clock)\n",
    "\n",
    "rpm = -1500 # rpm\n",
    "rps = rpm/60."
   ]
  },
  {
   "cell_type": "code",
   "execution_count": null,
   "id": "c6e18807-ec9c-4e42-9b02-e8aeae4386bc",
   "metadata": {},
   "outputs": [],
   "source": [
    "tmax = 10 # s\n",
    "\n",
    "sfreq = 48000 # Hz\n",
    "nsamples = tmax * sfreq\n",
    "\n",
    "n1 = ac.WNoiseGenerator(sample_freq=sfreq, num_samples=nsamples, seed = 1, rms=1.0)\n",
    "n2 = ac.WNoiseGenerator(sample_freq=sfreq, num_samples=nsamples, seed = 2, rms=0.5**0.5)"
   ]
  },
  {
   "cell_type": "markdown",
   "id": "7d93e7b6-3197-46a5-b138-a9fabe65d3f9",
   "metadata": {},
   "source": [
    "stationary source"
   ]
  },
  {
   "cell_type": "code",
   "execution_count": null,
   "id": "3e84ae89-8b24-490e-84c8-5acd8acf24a4",
   "metadata": {},
   "outputs": [],
   "source": [
    "p1 = ac.PointSource(signal = n1, \n",
    "                    mics = m, \n",
    "                    loc = ( r * plt.cos(phi), \n",
    "                            r * plt.sin(phi), \n",
    "                            z))"
   ]
  },
  {
   "cell_type": "markdown",
   "id": "ec2fd018-0d64-4a25-9dc9-ac811b7cb3a4",
   "metadata": {},
   "source": [
    "rotating source"
   ]
  },
  {
   "cell_type": "code",
   "execution_count": null,
   "id": "3e8f4aa2-25c8-4ca7-95b1-dd446e28925b",
   "metadata": {},
   "outputs": [],
   "source": [
    "tr = ac.Trajectory()\n",
    "delta_t = 1./plt.abs(rps)/16.0 # 16 steps per revolution\n",
    "for t in plt.arange(0, tmax*1.001, delta_t):\n",
    "    phit = t * rps * 2 * plt.pi #angle\n",
    "    tr.points[t] = (r * plt.cos(phi + phit), \n",
    "                    r * plt.sin(phi + phit), \n",
    "                    z)\n",
    "\n",
    "p2 = ac.MovingPointSource(signal=n2, mics=m, trajectory=tr)"
   ]
  },
  {
   "cell_type": "code",
   "execution_count": null,
   "id": "b3881de0-8fd1-46f2-b0b2-d47e3762c8ea",
   "metadata": {},
   "outputs": [],
   "source": [
    "p = ac.SourceMixer(sources = [p1, p2])\n",
    "\n",
    "wh5 = ac.WriteH5(source=p, file = 'b11c_notrigger.h5')\n",
    "wh5.save()"
   ]
  },
  {
   "cell_type": "markdown",
   "id": "e7359e11-f17c-48f2-bafa-808e135051e9",
   "metadata": {},
   "source": [
    "## 3) Evaluation\n",
    "\n",
    "focus grid"
   ]
  },
  {
   "cell_type": "code",
   "execution_count": null,
   "id": "737122d7-2ed0-417f-bdaf-c91c632c07ca",
   "metadata": {
    "tags": []
   },
   "outputs": [],
   "source": [
    "g = ac.RectGrid(x_min = -0.3,\n",
    "                x_max =  0.3, \n",
    "                y_min = -0.3,\n",
    "                y_max =  0.3,\n",
    "                z = 0.5,\n",
    "                increment = 0.01)\n",
    "\n",
    "print(f'number grid points: {g.size}')"
   ]
  },
  {
   "cell_type": "markdown",
   "id": "7c123596-dcc8-4525-ae40-6cdc80814296",
   "metadata": {},
   "source": [
    "plot setup"
   ]
  },
  {
   "cell_type": "code",
   "execution_count": null,
   "id": "7cac5688-5662-4a90-9579-3a71481afc85",
   "metadata": {
    "tags": []
   },
   "outputs": [],
   "source": [
    "plt.figure(1,(7,7))\n",
    "plt.plot(0,0,'+')\n",
    "\n",
    "for i in plt.arange(m.num_mics):\n",
    "    plt.plot(m.pos[0,i],m.pos[1,i],'oC0')\n",
    "    plt.text(m.pos[0,i]+0.005,m.pos[1,i]+0.005,str(i+1), fontsize=6)\n",
    "    \n",
    "plt.plot(g.pos[0],g.pos[1], '+k', ms=3)\n",
    "plt.title(m.file)\n",
    "plt.axis('equal')\n",
    "plt.show()"
   ]
  },
  {
   "cell_type": "markdown",
   "id": "1bd1bd24-c940-48e3-9a82-64e6a89dc3af",
   "metadata": {},
   "source": [
    "time signal:"
   ]
  },
  {
   "cell_type": "code",
   "execution_count": null,
   "id": "ef36af23-20bf-4563-b5a0-17edb887fc19",
   "metadata": {
    "tags": []
   },
   "outputs": [],
   "source": [
    "timedata = ac.TimeSamples(file = 'b11c_notrigger.h5')\n",
    "print(f'signal duration: {timedata.num_samples/timedata.sample_freq} s')"
   ]
  },
  {
   "cell_type": "markdown",
   "id": "a4ac422a-43cf-4209-9870-6234f4f69192",
   "metadata": {
    "tags": []
   },
   "source": [
    "Setup virtual rotation"
   ]
  },
  {
   "cell_type": "code",
   "execution_count": null,
   "id": "649bf864-31a3-4bc0-bd05-e67229cc9b90",
   "metadata": {},
   "outputs": [],
   "source": [
    "frot = rps\n",
    "\n",
    "env = ac.AxialRotatingFlowEnvironment(c=c0)\n",
    "\n",
    "print(frot)"
   ]
  },
  {
   "cell_type": "markdown",
   "id": "b01e37bb-851a-44e1-8a44-8f027d4f30c6",
   "metadata": {},
   "source": [
    "Virtual rotation (or not)"
   ]
  },
  {
   "cell_type": "code",
   "execution_count": null,
   "id": "c8c83a95-88eb-4ee3-a312-dbefe2719953",
   "metadata": {},
   "outputs": [],
   "source": [
    "# space domain -> mode domain\n",
    "pmt0 = ac.SpaceModesTransformer(source = timedata, channel_order = channels)\n",
    "\n",
    "# VRA\n",
    "pmtr = ac.VirtualRotatorModal(source = pmt0, \n",
    "                              rotational_speed = rps, \n",
    "                              delay = plt.abs(g.z)/c0)\n"
   ]
  },
  {
   "cell_type": "markdown",
   "id": "1b2329af-69a3-424c-a3fe-14a4f79738d2",
   "metadata": {
    "tags": []
   },
   "source": [
    "Setup beamformer:"
   ]
  },
  {
   "cell_type": "code",
   "execution_count": null,
   "id": "25b567a6-872b-4023-b462-ce1a9cfe7963",
   "metadata": {
    "jp-MarkdownHeadingCollapsed": true,
    "tags": []
   },
   "outputs": [],
   "source": [
    "\n",
    "# Sound propagation model\n",
    "sts = ac.SteeringVector(grid=g, \n",
    "                        mics=m, \n",
    "                        env=env)\n",
    "# steering vector also into mode domain\n",
    "st = ac.SteeringVectorModeTransformer(steer = sts,  \n",
    "                                      channel_order = channels)\n",
    "\n",
    "# CSM\n",
    "f = ac.PowerSpectra(window = 'Hanning', \n",
    "                      overlap = '50%',\n",
    "                      block_size = 256)\n",
    "\n",
    "# Beamformer\n",
    "bf = ac.BeamformerBase(freq_data = f,\n",
    "                        steer= st)\n",
    "\n",
    "\n",
    "# classic beamforming in spatial domain\n",
    "\"\"\"\n",
    "f2 = ac.PowerSpectra(source = timedata,\n",
    "                     window = 'Hanning', \n",
    "                      overlap = '50%',\n",
    "                      block_size = 256)\n",
    "bf2 = ac.BeamformerBase(freq_data = f2,\n",
    "                        steer= sts,\n",
    "                        r_diag = True)\n",
    "\"\"\"\n"
   ]
  },
  {
   "cell_type": "markdown",
   "id": "d36d713c-f483-4aed-ba9a-f9d02358eb42",
   "metadata": {},
   "source": [
    "Calculation and visualization"
   ]
  },
  {
   "cell_type": "code",
   "execution_count": null,
   "id": "5350ca0d-6118-4b91-85a5-1970033dfed3",
   "metadata": {
    "tags": []
   },
   "outputs": [],
   "source": [
    "# For getting rid of unwanted \"rotational noise\", set r_diag to True\n",
    "\n",
    "bf.r_diag = True\n",
    "#bf.r_diag = False\n",
    "\n",
    "#freqbands\n",
    "freqs = [2500, 5000, 10000] \n",
    "#bandsize\n",
    "band = 3\n",
    "\n",
    "nfreqs = len(freqs)\n",
    "\n",
    "fig = plt.figure(3,figsize=(nfreqs*4, 8))  \n",
    "nsub = 0\n",
    "\n",
    "\n",
    "for pmt in {pmt0, pmtr}:\n",
    "    f.source = pmt\n",
    "    if hasattr(pmt,'rotational_speed'):\n",
    "        env.rotational_speed = -frot\n",
    "        addstr = f'frot={pmt.rotational_speed:.2f}Hz'\n",
    "    else:\n",
    "        env.rotational_speed = 0\n",
    "        addstr = 'stationary'\n",
    "\n",
    "    for freq in freqs:\n",
    "        nsub+=1\n",
    "    \n",
    "        bbmap = bf.synthetic(freq,band)\n",
    "        Lp = ac.L_p(bbmap)\n",
    "        mx = Lp.max()\n",
    "        \n",
    "    \n",
    "        plt.subplot(2,nfreqs, nsub) \n",
    "    \n",
    "        #bf result\n",
    "        plt.imshow(Lp.T,\n",
    "                   vmin = mx-20,\n",
    "                   vmax = mx,\n",
    "                   origin='lower',\n",
    "                   extent=g.extend(),\n",
    "                   interpolation='nearest',\n",
    "                   cmap=plt.cm.hot_r)\n",
    "    \n",
    "\n",
    "        plt.title(f'{freq} Hz, {addstr}')\n",
    "        plt.colorbar()\n",
    "\n",
    "\n",
    "plt.show()"
   ]
  }
 ],
 "metadata": {
  "kernelspec": {
   "display_name": "ac",
   "language": "python",
   "name": "ac"
  },
  "language_info": {
   "codemirror_mode": {
    "name": "ipython",
    "version": 3
   },
   "file_extension": ".py",
   "mimetype": "text/x-python",
   "name": "python",
   "nbconvert_exporter": "python",
   "pygments_lexer": "ipython3",
   "version": "3.12.4"
  }
 },
 "nbformat": 4,
 "nbformat_minor": 5
}
