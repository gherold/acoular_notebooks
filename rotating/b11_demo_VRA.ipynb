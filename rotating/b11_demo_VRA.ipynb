{
 "cells": [
  {
   "cell_type": "markdown",
   "id": "6ebabecf-5e67-4d65-b66c-805560a10867",
   "metadata": {},
   "source": [
    "# Example evaluation with rotating point sources\n",
    "\n",
    "Requirements\n",
    "- \"Microphone Array Benchmark b11: Rotating Point Sources\" dataset (https://doi.org/10.14279/depositonce-8460), files in subfolder \"./td/\"\n",
    "- Acoular \"rotating2024\" branch (https://github.com/gherold/acoular/tree/rotating2024, last tested: 2025-03-24)\n",
    "- Arra geometry file \"ring64circ.xml\"\n",
    "\n",
    "Imports:"
   ]
  },
  {
   "cell_type": "code",
   "execution_count": null,
   "id": "dd3fb9b6-16b6-4937-9c84-be398249dcb1",
   "metadata": {
    "tags": []
   },
   "outputs": [],
   "source": [
    "import acoular as ac\n",
    "ac.config.global_caching='none'\n",
    "ac.config.h5library = \"h5py\"\n",
    "#ac.config.h5library = \"tables\"\n",
    "import pylab as plt\n",
    "c0 = 343.\n",
    "\n",
    "# select whether to rotate in modal or spatial domain\n",
    "vra = 'mode-time domain'\n",
    "#vra = 'space-time domain'\n"
   ]
  },
  {
   "cell_type": "markdown",
   "id": "1a53f941-6398-46e5-9b9e-9eaf91f4e82c",
   "metadata": {},
   "source": [
    "array geometry and focus grid:"
   ]
  },
  {
   "cell_type": "code",
   "execution_count": null,
   "id": "128f2661-823c-404e-8ec4-43cca0239c2b",
   "metadata": {
    "tags": []
   },
   "outputs": [],
   "source": [
    "m = ac.MicGeomCirc(file = './ring64circ.xml')\n",
    "channels = m.ringlist[0].mics\n",
    "\n",
    "g = ac.RectGrid(x_min = -0.3,\n",
    "                x_max =  0.3, \n",
    "                y_min = -0.3,\n",
    "                y_max =  0.3,\n",
    "                z = 0.5,\n",
    "                increment = 0.01)\n",
    "\n",
    "print(f'number mics: {m.num_mics:.0f}, number grid points: {g.size}')"
   ]
  },
  {
   "cell_type": "markdown",
   "id": "7c123596-dcc8-4525-ae40-6cdc80814296",
   "metadata": {},
   "source": [
    "plot setup"
   ]
  },
  {
   "cell_type": "code",
   "execution_count": null,
   "id": "7cac5688-5662-4a90-9579-3a71481afc85",
   "metadata": {
    "tags": []
   },
   "outputs": [],
   "source": [
    "plt.figure(1,(7,7))\n",
    "plt.plot(0,0,'+')\n",
    "\n",
    "for i in plt.arange(m.num_mics):\n",
    "    plt.plot(m.pos[0,i],m.pos[1,i],'oC0')\n",
    "    plt.text(m.pos[0,i]+0.005,m.pos[1,i]+0.005,str(i+1), fontsize=6)\n",
    "    \n",
    "plt.plot(g.pos[0],g.pos[1], '+k', ms=3)\n",
    "plt.title(m.file)\n",
    "plt.axis('equal')\n",
    "plt.show()"
   ]
  },
  {
   "cell_type": "markdown",
   "id": "1bd1bd24-c940-48e3-9a82-64e6a89dc3af",
   "metadata": {},
   "source": [
    "Zeitsignal:"
   ]
  },
  {
   "cell_type": "code",
   "execution_count": null,
   "id": "ef36af23-20bf-4563-b5a0-17edb887fc19",
   "metadata": {
    "tags": []
   },
   "outputs": [],
   "source": [
    "# subcase\n",
    "bc = 'b'\n",
    "\n",
    "timedata = ac.aiaa.TimeSamplesAIAABenchmark(file = 'td/b11%sTimeSeries.h5' % bc)\n",
    "print(f'signal duration: {timedata.num_samples/timedata.sample_freq} s')"
   ]
  },
  {
   "cell_type": "markdown",
   "id": "58dce292-95c4-4273-b7a2-d02ee8f52087",
   "metadata": {},
   "source": [
    "trigger signal:"
   ]
  },
  {
   "cell_type": "code",
   "execution_count": null,
   "id": "80a66289-8004-4747-ad81-eece1a59b472",
   "metadata": {
    "tags": []
   },
   "outputs": [],
   "source": [
    "\n",
    "timedata_trigger = ac.aiaa.TriggerAIAABenchmark(file='td/b11%sTimeSeriesOpt.h5' % bc)\n",
    "\n",
    "plt.figure(2)\n",
    "\n",
    "plt.plot(timedata_trigger.data[:int(1e4)])\n",
    "\n",
    "trig_data = ac.Trigger(source=timedata_trigger, threshold =2)"
   ]
  },
  {
   "cell_type": "markdown",
   "id": "a4ac422a-43cf-4209-9870-6234f4f69192",
   "metadata": {
    "tags": []
   },
   "source": [
    "Setup virtual rotation"
   ]
  },
  {
   "cell_type": "code",
   "execution_count": null,
   "id": "649bf864-31a3-4bc0-bd05-e67229cc9b90",
   "metadata": {},
   "outputs": [],
   "source": [
    "# New angle calculation\n",
    "frot_data = ac.TrajectoryAnglesFromTrigger(trigger = trig_data,\n",
    "                                        rot_direction = -1)\n",
    "\n",
    "frot= frot_data.rps_average\n",
    "\n",
    "env = ac.AxialRotatingFlowEnvironment(rotational_speed = -frot, \n",
    "                                      c=c0)\n",
    "\n",
    "print(frot)"
   ]
  },
  {
   "cell_type": "markdown",
   "id": "b01e37bb-851a-44e1-8a44-8f027d4f30c6",
   "metadata": {},
   "source": [
    "Setup virtual rotation"
   ]
  },
  {
   "cell_type": "code",
   "execution_count": null,
   "id": "c8c83a95-88eb-4ee3-a312-dbefe2719953",
   "metadata": {},
   "outputs": [],
   "source": [
    "\n",
    "if vra == 'mode-time domain': \n",
    "    # VRA (M-T)\n",
    "    # space domain -> mode domain\n",
    "    pmt = ac.SpaceModesTransformer(source = timedata, channel_order = channels)\n",
    "    \n",
    "    pmt_r = ac.VirtualRotatorModal(source = pmt, \n",
    "                                   rotational_speed = frot_data, \n",
    "                                   delay = plt.abs(g.z)/c0)\n",
    "    \n",
    "    # mode domain -> space domain\n",
    "    p_rot = ac.SpaceModesTransformer(source = pmt_r, \n",
    "                                      channel_order = channels, \n",
    "                                      inverse=True)\n",
    "elif vra == 'space-time domain':\n",
    "    # VRA S-T\n",
    "    p_rot = ac.VirtualRotatorSpatial(source = timedata, \n",
    "                                     channel_order = channels, \n",
    "                                     rotational_speed = frot_data, \n",
    "                                     delay = plt.abs(g.z)/c0)\n",
    "else: raise NotImplementedError(f'Unknown rotation type \"{vra}\"')"
   ]
  },
  {
   "cell_type": "markdown",
   "id": "1b2329af-69a3-424c-a3fe-14a4f79738d2",
   "metadata": {
    "tags": []
   },
   "source": [
    "Setup beamformer:"
   ]
  },
  {
   "cell_type": "code",
   "execution_count": null,
   "id": "25b567a6-872b-4023-b462-ce1a9cfe7963",
   "metadata": {
    "jp-MarkdownHeadingCollapsed": true,
    "tags": []
   },
   "outputs": [],
   "source": [
    "\n",
    "# Sound propagation model\n",
    "st = ac.SteeringVector(grid=g, mics=m, env=env)\n",
    "# CSM\n",
    "f = ac.PowerSpectraDR(\n",
    "                    source = p_rot, \n",
    "                    window = 'Hanning', \n",
    "                    overlap = '50%',\n",
    "                    block_size = 256)\n",
    "\n",
    "\n",
    "\n",
    "# Beamformer\n",
    "bf = ac.BeamformerBase(freq_data = f,\n",
    "                       steer= st,\n",
    "                       r_diag = True)\n",
    "\n",
    "\n",
    "\n",
    "bfc = ac.BeamformerCleansc(freq_data = f,\n",
    "                       steer= st,\n",
    "                       r_diag = True)\n",
    "\n",
    "\n",
    "bfcmf = ac.BeamformerCMF(freq_data = f,\n",
    "                         steer= st,\n",
    "                         r_diag = True,\n",
    "                         method = 'NNLS') "
   ]
  },
  {
   "cell_type": "markdown",
   "id": "d36d713c-f483-4aed-ba9a-f9d02358eb42",
   "metadata": {},
   "source": [
    "Calculation and visualization"
   ]
  },
  {
   "cell_type": "code",
   "execution_count": null,
   "id": "5350ca0d-6118-4b91-85a5-1970033dfed3",
   "metadata": {
    "tags": []
   },
   "outputs": [],
   "source": [
    "\n",
    "#algorithm\n",
    "beamformer = bf\n",
    "#freqbands\n",
    "freqs = [2500, 5000, 10000] \n",
    "#bandsize\n",
    "band = 3\n",
    "\n",
    "nfreqs = len(freqs)\n",
    "\n",
    "fig = plt.figure(3,figsize=(nfreqs*4, 4))  \n",
    "nsub = 0\n",
    "\n",
    "for freq in freqs:\n",
    "    nsub+=1\n",
    "\n",
    "    bbmap = beamformer.synthetic(freq,band)\n",
    "    Lp = ac.L_p(bbmap)\n",
    "    mx = Lp.max()\n",
    "    \n",
    "\n",
    "    plt.subplot(1,nfreqs, nsub) \n",
    "\n",
    "    #bf result\n",
    "    plt.imshow(Lp.T,\n",
    "               vmin = mx-20,\n",
    "               vmax = mx,\n",
    "               origin='lower',\n",
    "               extent=g.extend(),\n",
    "               interpolation='nearest',\n",
    "               cmap=plt.cm.hot_r)\n",
    "\n",
    "\n",
    "    plt.title(f'{freq} Hz, {vra}')\n",
    "\n",
    "\n",
    "plt.show()"
   ]
  }
 ],
 "metadata": {
  "kernelspec": {
   "display_name": "ac",
   "language": "python",
   "name": "ac"
  },
  "language_info": {
   "codemirror_mode": {
    "name": "ipython",
    "version": 3
   },
   "file_extension": ".py",
   "mimetype": "text/x-python",
   "name": "python",
   "nbconvert_exporter": "python",
   "pygments_lexer": "ipython3",
   "version": "3.12.4"
  }
 },
 "nbformat": 4,
 "nbformat_minor": 5
}
